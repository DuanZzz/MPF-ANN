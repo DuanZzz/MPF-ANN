{
 "cells": [
  {
   "cell_type": "code",
   "execution_count": 80,
   "metadata": {},
   "outputs": [],
   "source": [
    "import numpy as np \n",
    "import pandas as pd\n",
    "import parameters as pa\n",
    "import matplotlib.pyplot as plt\n",
    "import time\n",
    "import math\n",
    "from functools import reduce\n",
    "from sklearn.preprocessing import MinMaxScaler"
   ]
  },
  {
   "cell_type": "code",
   "execution_count": 3,
   "metadata": {
    "scrolled": true
   },
   "outputs": [
    {
     "data": {
      "text/plain": [
       "False"
      ]
     },
     "execution_count": 3,
     "metadata": {},
     "output_type": "execute_result"
    }
   ],
   "source": [
    "import tensorflow as tf \n",
    "from tensorflow.keras import layers\n",
    "tf.executing_eagerly()"
   ]
  },
  {
   "cell_type": "code",
   "execution_count": 4,
   "metadata": {},
   "outputs": [],
   "source": [
    "import os\n",
    "os.environ['TF_CPP_MIN_LOG_LEVEL'] = '2'\n",
    "os.environ['TF_ROCM_FUSION_ENABLE'] = '1'"
   ]
  },
  {
   "cell_type": "code",
   "execution_count": 143,
   "metadata": {},
   "outputs": [],
   "source": [
    "mpf_bct_raw = np.array(pd.read_csv(\"~/MPF/BCT/BCT.csv\"))\n",
    "daily_r, daily_c = mpf_bct_raw.shape\n",
    "daily = np.array([s.replace(\"/\", \"-\") for s in mpf_bct_raw[:,0]]).astype(\"datetime64\")\n",
    "mpf_bct = mpf_bct_raw[:,1:].astype(\"float64\")\n",
    "mpf_bct_list = mpf_bct.transpose().tolist()\n",
    "lstm_size = 128\n",
    "time_step = 60\n",
    "batch_size = 512\n",
    "output_size = 1\n",
    "#input_size = 1\n",
    "shift = 1"
   ]
  },
  {
   "cell_type": "code",
   "execution_count": 157,
   "metadata": {},
   "outputs": [],
   "source": [
    "mpf_bct_returns = np.array([[math.log(col[i+1]/col[i]) if col[i] != 0 else -9999 for i,a in enumerate(col[:-1])] for col in mpf_bct_list], dtype='float32').transpose()\n",
    "mpf_bct_returns[mpf_bct_returns==-9999.0] = np.nan"
   ]
  },
  {
   "cell_type": "code",
   "execution_count": 69,
   "metadata": {},
   "outputs": [],
   "source": [
    "def plot_data(data):\n",
    "    plt.figure(figsize=(15,6))\n",
    "    plt.plot(data)"
   ]
  },
  {
   "cell_type": "code",
   "execution_count": 68,
   "metadata": {},
   "outputs": [],
   "source": [
    "class Attention(tf.keras.Model):\n",
    "    def __init__(self, rnn_units, batch_size, time_step, input_size, output_size):\n",
    "        super(Attention, self).__init__()\n",
    "        self.units = rnn_units\n",
    "        self.batch_size = batch_size\n",
    "        self.time_step = time_step\n",
    "        self.input_step = input_size\n",
    "        self.output_size = output_size\n",
    "        \n",
    "        self.lstm = tf.keras.layers.LSTM(self.units, \n",
    "                                         return_sequences = True, \n",
    "                                         return_state = True,\n",
    "                                         stateful = True,\n",
    "                                         recurrent_initializer='glorot_uniform')\n",
    "        \n",
    "        self.Wh = tf.keras.layers.Dense(self.units)\n",
    "        self.Ws = tf.keras.layers.Dense(self.units)\n",
    "        self.Wx = tf.keras.layers.Dense(1)\n",
    "        self.V = tf.keras.layers.Dense(1)\n",
    "        self.O = tf.keras.layers.Dense(self.output_size)\n",
    "    \n",
    "    def call(self, x, hidden, state):\n",
    "        \n",
    "        # hidden shape (batch, units) to (batch,1,units)\n",
    "        hidden = tf.expand_dims(hidden, 1)\n",
    "        # x shape (batch, time_step, 1)\n",
    "        x = tf.expand_dims(x,0)\n",
    "        \n",
    "        score = self.V(tf.nn.tanh(self.Wx(x) + self.Wh(hidden) + self.Ws(state)))\n",
    "        # attention shape = (batch, time_step, 1)\n",
    "        attention_weights = tf.nn.softmax(score, axis = 1)\n",
    "        \n",
    "        encoder_outputs, state_h, state_c = self.lstm(x*attention_weights) \n",
    "        output = self.O(state_h)\n",
    "        \n",
    "        return attention_weights,state_h, state_c, output\n",
    "    \n",
    "    def init_hidden_state(self):\n",
    "        hidden = tf.zeros((self.batch_size, self.units))\n",
    "        state = tf.zeros((self.batch_size, self.time_step, self.units))\n",
    "        return hidden, state"
   ]
  },
  {
   "cell_type": "code",
   "execution_count": 158,
   "metadata": {
    "scrolled": false
   },
   "outputs": [
    {
     "data": {
      "text/plain": [
       "array([        nan,         nan,         nan,         nan,         nan,\n",
       "        0.        , -0.01005034, -0.01005034,         nan,         nan,\n",
       "               nan,         nan,         nan,         nan,         nan,\n",
       "        0.        ,         nan,         nan,         nan], dtype=float32)"
      ]
     },
     "execution_count": 158,
     "metadata": {},
     "output_type": "execute_result"
    }
   ],
   "source": [
    "mpf_bct_returns[9,:]"
   ]
  },
  {
   "cell_type": "code",
   "execution_count": null,
   "metadata": {},
   "outputs": [],
   "source": []
  },
  {
   "cell_type": "code",
   "execution_count": null,
   "metadata": {},
   "outputs": [],
   "source": []
  }
 ],
 "metadata": {
  "kernelspec": {
   "display_name": "Python 3",
   "language": "python",
   "name": "python3"
  },
  "language_info": {
   "codemirror_mode": {
    "name": "ipython",
    "version": 3
   },
   "file_extension": ".py",
   "mimetype": "text/x-python",
   "name": "python",
   "nbconvert_exporter": "python",
   "pygments_lexer": "ipython3",
   "version": "3.6.8"
  }
 },
 "nbformat": 4,
 "nbformat_minor": 2
}
